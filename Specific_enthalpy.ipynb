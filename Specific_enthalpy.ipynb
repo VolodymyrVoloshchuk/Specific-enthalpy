# Розрахунок питомої ентальпії робочого тіла
import CoolProp.CoolProp as CP
def HPTwf(p, T, wf):
    return CP.PropsSI('H','P',p,'T',T,wf)

wf = 'Water'
p = 10e6
T = 300+273.15
h = HPTwf(p, T, wf)
print(h)
